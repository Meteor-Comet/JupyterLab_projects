{
 "cells": [
  {
   "cell_type": "code",
   "execution_count": null,
   "id": "13ef646c-111c-41a8-b286-563b3f8ea718",
   "metadata": {},
   "outputs": [],
   "source": [
    "import os\n",
    "\n",
    "def remove_ad_text(dir2,ad_text):\n",
    "    '''\n",
    "    用来实现删除特定广告文本的函数。\n",
    "    该函数会搜索检查指定根目录下的所有文件以及子目录，如果子目录下依然\n",
    "    存在子目录，则会一直查找下去，直到没有子目录为止。然后将目录名与文件\n",
    "    名中含有的广告词进行删除。\n",
    "    \n",
    "    Parameters:\n",
    "    -------------\n",
    "    dir2 str\n",
    "    指定要检查的根目录。\n",
    "    ad text str\n",
    "    指定要删除的广告词。\n",
    "    '''\n",
    "    \n",
    "    #如果dir2表示的不是一个目录，则直接返回\n",
    "    #os.path.isdir()是一个函数，用于检查给定路径是否是一个目录。\n",
    "    if not os.path.isdir(dir2):   \n",
    "        return\n",
    "    #如果传递的dir2末尾没有路径分隔符，我们就加入路径分隔符。\n",
    "    #dir2.endswith(os.path.sep)检查字符串是否以分隔符[os.path.sep]结尾\n",
    "    if not dir2.endswith(os.path.sep):\n",
    "        dir2 += os.path.sep\n",
    "        \n",
    "    #获取目录下所有的子目录以及文件名(返回列表类型)\n",
    "    names = os.listdir(dir2)\n",
    "    #依次遍历每一个子目录或文件名(对于目录和文件的处理方式是不同的)\n",
    "    for name in names:\n",
    "        #拼接成完整的路径。（包含路径与文件名）\n",
    "        sub_path = os.path.join(dir2,name)\n",
    "        #判断该路径表示的是否为目录\n",
    "        if os.path.isdir(sub_path):\n",
    "            #如果是目录，则要进行递归的判断查找(下钻)\n",
    "            remove_ad_text(sub_path,ad_text)\n",
    "        #将当前文件（目录）进行重命名，去掉广告词。\n",
    "        name  = name.repalce(ad_text,\"\")\n",
    "        #组合新的路径\n",
    "        name_path = os.path.join(dir2,name)\n",
    "        #对文件（目录）名进行重命名\n",
    "        os.rename(sub_path,new_path)"
   ]
  },
  {
   "cell_type": "markdown",
   "id": "893d50ac-3755-4f46-9290-3055227c39a3",
   "metadata": {},
   "source": [
    "1.函数remove_ad_text接受两个参数：dir2（要搜索文件和目录的根目录）和ad_text（要删除的特定广告文本）\n",
    "2.代码的第一部分使用os.path.isdir()检查dir2是否是有效的目录。如果它不是一个目录，函数会提前返回\n",
    "3.接下来，代码使用os.path.sep检查dir2是否以路径分隔符结尾。如果不是，则在dir2末尾添加路径分隔符。这样确保路径格式正确\n",
    "4.os.listdir(dir2)函数获取dir2中存在的文件和目录名称列表\n",
    "5.代码遍历names列表中的每个名称。对于每个名称，通过使用os.path.join()将dir2和当前名称连接起来创建完整路径\n",
    "6.如果路径对应于一个目录，代码在子目录上递归调用remove_ad_text函数。这允许函数搜索所有子目录\n",
    "7.接下来，代码使用replace()方法从名称中删除ad_text。它将ad_text的出现替换为空字符串\n",
    "8.使用os.path.join()将新名称与根目录结合起来创建new_path\n",
    "9.最后，使用os.rename()函数将当前文件或目录重命名为新名称\n",
    "此过程会在给定的根目录中的所有文件和目录（包括子目录）中重复进行。文件系统结构中的所有名称都会删除广告文本\n"
   ]
  }
 ],
 "metadata": {
  "kernelspec": {
   "display_name": "Python 3 (ipykernel)",
   "language": "python",
   "name": "python3"
  },
  "language_info": {
   "codemirror_mode": {
    "name": "ipython",
    "version": 3
   },
   "file_extension": ".py",
   "mimetype": "text/x-python",
   "name": "python",
   "nbconvert_exporter": "python",
   "pygments_lexer": "ipython3",
   "version": "3.10.9"
  }
 },
 "nbformat": 4,
 "nbformat_minor": 5
}
